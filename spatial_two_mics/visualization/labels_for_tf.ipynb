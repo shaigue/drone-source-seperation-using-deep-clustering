{
 "cells": [
  {
   "cell_type": "markdown",
   "metadata": {},
   "source": [
    "## Visualization of the label inference for TF representations\n",
    "### Efthymios Tzinis"
   ]
  },
  {
   "cell_type": "code",
   "execution_count": null,
   "metadata": {},
   "outputs": [],
   "source": [
    "import os, sys, librosa, matplotlib, plotly\n",
    "import numpy as np \n",
    "from pprint import pprint \n",
    "from sklearn.cluster import KMeans\n",
    "from sklearn.decomposition import FastICA\n",
    "from matplotlib.pyplot import subplot, hist, tight_layout\n",
    "from matplotlib.pylab import title\n",
    "root_dir = '../../'\n",
    "sys.path.insert(0, root_dir)\n",
    "import spatial_two_mics.examples.mixture_example as me\n",
    "import spatial_two_mics.utils.audio_mixture_constructor as mix_constructor\n",
    "import spatial_two_mics.data_generator.source_position_generator as position_generator\n",
    "import spatial_two_mics.labels_inference.tf_label_estimator as label_estimator\n",
    "mixture_info = me.mixture_info_example()"
   ]
  },
  {
   "cell_type": "code",
   "execution_count": null,
   "metadata": {},
   "outputs": [],
   "source": [
    "# random positions if you want\n",
    "random_positioner = position_generator.RandomCirclePositioner()\n",
    "positions_info = random_positioner.get_sources_locations(2)\n",
    "mixture_info['positions'] = positions_info"
   ]
  },
  {
   "cell_type": "code",
   "execution_count": null,
   "metadata": {},
   "outputs": [],
   "source": [
    "mixture_creator = mix_constructor.AudioMixtureConstructor(\n",
    "        n_fft=1024, win_len=400, hop_len=200, mixture_duration=2.0,\n",
    "        force_all_signals_one_sample_delay=True)\n",
    "\n",
    "tf_representations = mixture_creator.construct_mixture(mixture_info)"
   ]
  },
  {
   "cell_type": "code",
   "execution_count": null,
   "metadata": {},
   "outputs": [],
   "source": [
    "pprint(mixture_info)"
   ]
  },
  {
   "cell_type": "code",
   "execution_count": null,
   "metadata": {},
   "outputs": [],
   "source": [
    "pprint(tf_representations)"
   ]
  },
  {
   "cell_type": "code",
   "execution_count": null,
   "metadata": {},
   "outputs": [],
   "source": [
    "# Plotly Functions \n",
    "import plotly\n",
    "import plotly.tools as tls\n",
    "import plotly.plotly as py\n",
    "import plotly.figure_factory as ff\n",
    "import plotly.graph_objs as go\n",
    "plotly.offline.init_notebook_mode()\n",
    "\n",
    "def plot_tf_representation(tf, for_title = '', fs=16000, duration=2.0, log_scale=False):\n",
    "    freq_max, time_max = tf.shape\n",
    "    bins = np.arange(time_max)\n",
    "    bins = (duration * bins) / time_max \n",
    "    freqs = np.arange(freq_max)\n",
    "    freqs = (freqs * fs) / (2.0 * freq_max) \n",
    "    trace = [go.Heatmap(\n",
    "        x= bins,\n",
    "        y= freqs,\n",
    "#         z= 10*np.log10(Pxx),\n",
    "        z = 10*np.log10(tf) if log_scale else tf,\n",
    "        colorscale='Jet',\n",
    "        )]\n",
    "    layout = go.Layout(\n",
    "        title = 'Spectrogram '+for_title,\n",
    "        yaxis = dict(title = 'Frequency'), # x-axis label\n",
    "        xaxis = dict(title = 'Time'), # y-axis label\n",
    "        )\n",
    "    fig = dict(data=trace, layout=layout)\n",
    "    plotly.offline.iplot(fig, filename=for_title)"
   ]
  },
  {
   "cell_type": "markdown",
   "metadata": {},
   "source": [
    "### Different sources spectrograms for microphone 1 (only apmlitude) And mixture as well"
   ]
  },
  {
   "cell_type": "code",
   "execution_count": null,
   "metadata": {},
   "outputs": [],
   "source": [
    "for i, source_tf in enumerate(tf_representations['sources_tf']):\n",
    "    plot_tf_representation(abs(source_tf), for_title = 'At mic 1, true source ' + str(i))\n",
    "plot_tf_representation(abs(tf_representations['m1_tf']), for_title = 'Mic 1 mixture')"
   ]
  },
  {
   "cell_type": "markdown",
   "metadata": {},
   "source": [
    "### Different sources spectrograms for microphone 2 (log scale for better visualization) "
   ]
  },
  {
   "cell_type": "code",
   "execution_count": null,
   "metadata": {},
   "outputs": [],
   "source": [
    "for i, source_tf in enumerate(tf_representations['delayed_sources_tf']):\n",
    "    plot_tf_representation(abs(source_tf), for_title = 'At mic 2, true source ' + str(i), log_scale=True)\n",
    "plot_tf_representation(abs(tf_representations['m2_tf']), for_title = 'Mic 2 mixture', log_scale=True)"
   ]
  },
  {
   "cell_type": "markdown",
   "metadata": {},
   "source": [
    "### Compare the difference of the spectrograms for 2 sources"
   ]
  },
  {
   "cell_type": "code",
   "execution_count": null,
   "metadata": {},
   "outputs": [],
   "source": [
    "for mic_id in np.arange(1,3):\n",
    "    distances_from_mic = [(source_id+1, mixture_info['positions']['distances']['m'+str(mic_id)+'s'+str(source_id+1)])\n",
    "                          for source_id in np.arange(len(mixture_info['sources_ids']))]\n",
    "    s_distances = sorted(distances_from_mic, key=lambda x: x[1])\n",
    "    print('Closer to mic: {} are the following sources with incremental order:\\n{}'.format(mic_id, s_distances)) "
   ]
  },
  {
   "cell_type": "markdown",
   "metadata": {},
   "source": [
    "Differences in amplitude first between the two recorded mixtures "
   ]
  },
  {
   "cell_type": "code",
   "execution_count": null,
   "metadata": {},
   "outputs": [],
   "source": [
    "amp_dif = abs(tf_representations['m1_tf']) - abs(tf_representations['m2_tf'])\n",
    "plot_tf_representation(amp_dif, for_title = 'difference in amplitudes of m1 - m2', log_scale=False)"
   ]
  },
  {
   "cell_type": "markdown",
   "metadata": {},
   "source": [
    "Then, difference in terms of phase "
   ]
  },
  {
   "cell_type": "code",
   "execution_count": null,
   "metadata": {},
   "outputs": [],
   "source": [
    "phase_dif = np.angle(tf_representations['m1_tf']) - np.angle(tf_representations['m2_tf'])\n",
    "plot_tf_representation(phase_dif, for_title = ' phase difference of m1 - m2', log_scale=False)"
   ]
  },
  {
   "cell_type": "markdown",
   "metadata": {},
   "source": [
    "Infer the ground truth for TF in the mixtures"
   ]
  },
  {
   "cell_type": "code",
   "execution_count": null,
   "metadata": {},
   "outputs": [],
   "source": [
    "ground_truth_estimator = label_estimator.TFMaskEstimator(\n",
    "                             inference_method='Ground_truth')\n",
    "gt_labels = ground_truth_estimator.infer_mixture_labels(tf_representations)\n",
    "plot_tf_representation(gt_labels, for_title = 'Ground Truth Mask', log_scale=False)"
   ]
  },
  {
   "cell_type": "markdown",
   "metadata": {},
   "source": [
    "Simple phase difference estimation of labels >< 0"
   ]
  },
  {
   "cell_type": "code",
   "execution_count": null,
   "metadata": {},
   "outputs": [],
   "source": [
    "simple_phase_dif_labels = np.where(phase_dif >= 0.0, 1.0, 0.0)\n",
    "plot_tf_representation(simple_phase_dif_labels, for_title = 'Simple phase difference estimation of labels >< 0', log_scale=False)"
   ]
  },
  {
   "cell_type": "markdown",
   "metadata": {},
   "source": [
    "Perform k-means with 2 clusters in order to infer the labels from the phase dif (DUET with only d as a feature)"
   ]
  },
  {
   "cell_type": "code",
   "execution_count": null,
   "metadata": {},
   "outputs": [],
   "source": [
    "phase_dif = np.angle(tf_representations['m1_tf']) - (1e-7 + np.angle(tf_representations['m2_tf']))\n",
    "n_sources = len(tf_representations['sources_tf'])\n",
    "d_feature = np.reshape(phase_dif, (np.product(phase_dif.shape), 1))\n",
    "\n",
    "kmeans = KMeans(n_clusters=n_sources, random_state=0).fit(d_feature)\n",
    "d_labels = kmeans.labels_\n",
    "d_feature_mask = np.reshape(d_labels, phase_dif.shape)\n",
    "plot_tf_representation(d_feature_mask, for_title = ' Phase Diff only 2-means', log_scale=False)"
   ]
  },
  {
   "cell_type": "code",
   "execution_count": null,
   "metadata": {},
   "outputs": [],
   "source": [
    "import plotly.figure_factory as ff \n",
    "def plot_1d_histogram(hs, title='', group_labels=None, bin_size=0.1):\n",
    "    fig = ff.create_distplot(hs, group_labels, bin_size=bin_size)\n",
    "    fig['layout'].update(title=title)\n",
    "    plotly.offline.iplot(fig, filename='')\n",
    "    \n",
    "def get_normalized_1d(matrix):\n",
    "    one_dim = np.reshape(matrix, np.product(matrix.size,))\n",
    "    return (one_dim - one_dim.mean()) / one_dim.std()"
   ]
  },
  {
   "cell_type": "code",
   "execution_count": null,
   "metadata": {},
   "outputs": [],
   "source": [
    "# try to normalize fist the phase diff with linear phase incremet\n",
    "max_freq, max_time = phase_dif.shape\n",
    "freqs_vec = np.linspace(1e-5, np.pi, max_freq)\n",
    "freq_normalizer = np.tile(-freqs_vec, (max_time, 1)).T\n",
    "freq_normalizer = np.flip(freq_normalizer, axis=1)\n",
    "\n",
    "norm_phase_dif = phase_dif / freq_normalizer\n",
    "hs = [get_normalized_1d(phase_dif),\n",
    "      get_normalized_1d(norm_phase_dif)]\n",
    "group_labels = ['Phase Difference', 'Phase Diff Normalized by Freq']\n",
    "# print(phase_dif)\n",
    "# print(norm_phase_dif)\n",
    "# plot_1d_histogram(hs, title='Phase difference distributions', \n",
    "#                   group_labels=group_labels, bin_size=100)\n",
    "\n",
    "# Show me\n",
    "subplot( 2, 1, 1), hist(hs[0], np.linspace( -np.pi, np.pi, 200)); title(group_labels[0])\n",
    "subplot( 2, 1, 2), hist(hs[1], np.linspace( -np.pi, np.pi, 200)); title(group_labels[1])\n",
    "tight_layout()"
   ]
  },
  {
   "cell_type": "code",
   "execution_count": null,
   "metadata": {},
   "outputs": [],
   "source": [
    "d_normalized_feature = np.reshape(phase_dif, (np.product(phase_dif.shape), 1))\n",
    "\n",
    "kmeans = KMeans(n_clusters=n_sources, random_state=0).fit(d_normalized_feature)\n",
    "d_labels = kmeans.labels_\n",
    "d_feature_mask = np.reshape(d_labels, phase_dif.shape)\n",
    "plot_tf_representation(d_feature_mask, for_title = ' Phase Diff only 2-means Normalized', log_scale=False)"
   ]
  },
  {
   "cell_type": "markdown",
   "metadata": {},
   "source": [
    "Perform k-means with 2 clusters in order to infer the labels from DUET using attenuation also"
   ]
  },
  {
   "cell_type": "code",
   "execution_count": null,
   "metadata": {},
   "outputs": [],
   "source": [
    "attenuation = abs(tf_representations['m1_tf']) / abs(tf_representations['m2_tf'])\n",
    "smoothed_attenuation = attenuation - (1. / attenuation)\n",
    "smoothed_attenuation_feature = np.reshape(smoothed_attenuation, (np.product(smoothed_attenuation.shape), 1))\n",
    "duet_features = np.concatenate((d_feature, smoothed_attenuation_feature), axis=1)\n",
    "\n",
    "kmeans = KMeans(n_clusters=n_sources, random_state=0).fit(duet_features)\n",
    "duet_labels = kmeans.labels_\n",
    "duet_mask = np.reshape(duet_labels, phase_dif.shape)\n",
    "plot_tf_representation(duet_mask, for_title = ' Phase Diff only 2-means', log_scale=False)"
   ]
  },
  {
   "cell_type": "code",
   "execution_count": null,
   "metadata": {},
   "outputs": [],
   "source": [
    "# try to normalize fist \n",
    "normalized_smoothed_attenuation_feature = (smoothed_attenuation_feature - np.mean(smoothed_attenuation_feature)) / np.std(smoothed_attenuation_feature)\n",
    "\n",
    "duet_normalized_features = np.concatenate((d_normalized_feature, normalized_smoothed_attenuation_feature), axis=1)\n",
    "\n",
    "kmeans = KMeans(n_clusters=n_sources, random_state=0).fit(duet_normalized_features)\n",
    "duet_labels = kmeans.labels_\n",
    "duet_mask = np.reshape(duet_labels, phase_dif.shape)\n",
    "plot_tf_representation(duet_mask, for_title = ' Phase Diff only 2-mean Normalized', log_scale=False)\n"
   ]
  },
  {
   "cell_type": "markdown",
   "metadata": {},
   "source": [
    "Perform ICA in order to infer the mask"
   ]
  },
  {
   "cell_type": "code",
   "execution_count": null,
   "metadata": {},
   "outputs": [],
   "source": [
    "X = np.array([tf_representations['m1_raw'], tf_representations['m2_raw']])\n",
    "ica = FastICA(n_components=n_sources)\n",
    "S_reconstructed = ica.fit_transform(X.T)\n",
    "reconstructed_signals = [S_reconstructed[:, i] for i in np.arange(S_reconstructed.shape[1])]\n",
    "\n",
    "reconstructed_mix_info = mixture_info.copy()\n",
    "import scipy.io.wavfile as wavfile\n",
    "paths = ['/tmp/wavaros_'+str(i) for i in np.arange(n_sources)]\n",
    "for i, path in enumerate(paths): \n",
    "    wavfile.write(path, 16000, reconstructed_signals[i])\n",
    "    reconstructed_mix_info['sources_ids'][i]['wav'] = reconstructed_signals[i]\n",
    "    reconstructed_mix_info['sources_ids'][i]['wav_path'] = path\n",
    "\n",
    "ica_tf_mixtures = mixture_creator.construct_mixture(reconstructed_mix_info)\n",
    "ica_tf_labels = ground_truth_estimator.infer_mixture_labels(ica_tf_mixtures)\n",
    "\n",
    "plot_tf_representation(ica_tf_labels, for_title = ' ICA Labels', log_scale=False)"
   ]
  },
  {
   "cell_type": "code",
   "execution_count": null,
   "metadata": {},
   "outputs": [],
   "source": []
  },
  {
   "cell_type": "code",
   "execution_count": null,
   "metadata": {},
   "outputs": [],
   "source": []
  },
  {
   "cell_type": "code",
   "execution_count": null,
   "metadata": {},
   "outputs": [],
   "source": []
  }
 ],
 "metadata": {
  "kernelspec": {
   "display_name": "Python 3",
   "language": "python",
   "name": "python3"
  },
  "language_info": {
   "codemirror_mode": {
    "name": "ipython",
    "version": 3
   },
   "file_extension": ".py",
   "mimetype": "text/x-python",
   "name": "python",
   "nbconvert_exporter": "python",
   "pygments_lexer": "ipython3",
   "version": "3.7.4"
  }
 },
 "nbformat": 4,
 "nbformat_minor": 4
}
